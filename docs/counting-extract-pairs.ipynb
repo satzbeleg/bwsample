{
 "cells": [
  {
   "cell_type": "code",
   "execution_count": 1,
   "id": "streaming-contest",
   "metadata": {},
   "outputs": [],
   "source": [
    "import sys\n",
    "sys.path.append('..')"
   ]
  },
  {
   "cell_type": "markdown",
   "id": "creative-present",
   "metadata": {},
   "source": [
    "# Extract \">\" Pairs from one evaluated BWS set\n",
    "We extract `>` (gt) relations only throughout the whole python module.\n",
    "\n",
    "## Demo\n",
    "The dictionaries `dok_..` store the counts or resp. frequencies for each `>` relationship, e.g. `('B', 'C'): 1` means `B>C` was counted `1` times."
   ]
  },
  {
   "cell_type": "code",
   "execution_count": 2,
   "id": "nearby-inspiration",
   "metadata": {},
   "outputs": [
    {
     "name": "stdout",
     "output_type": "stream",
     "text": [
      "{('D', 'C'): 1, ('D', 'A'): 1, ('A', 'C'): 1, ('D', 'B'): 1, ('B', 'C'): 1}\n"
     ]
    }
   ],
   "source": [
    "from bwsample import extract_pairs\n",
    "\n",
    "ids = ['A', 'B', 'C', 'D']\n",
    "states = [0, 0, 2, 1]  # BEST=1, WORST=2\n",
    "\n",
    "dok_all, dok_direct, dok_best, dok_worst = extract_pairs(ids, states)\n",
    "\n",
    "print(dok_all)"
   ]
  },
  {
   "cell_type": "markdown",
   "id": "yellow-globe",
   "metadata": {},
   "source": [
    "## Three types pairs\n",
    "We can distinct three types of pairs (`dok_all` contains 3 types of pairs).\n",
    "\n",
    "- `\"BEST > WORST\"` : The dictionary `dok_direct` counts only pairs with both objects are explicitly selected as `BEST=1` or `WORST=2`.\n",
    "- `\"BEST > MIDDLE\"` : The dictionary `dok_best` counts only pairs with the lhs object selected as `BEST:1` and rhs object unselected (`MIDDLE:0`).\n",
    "- `\"MIDDLE > WORST\"` : The dictionary `doc_worst` counts only pairs with the lhs object unselected (`MIDDLE:0`) and the rhs object selected as `WORST:2`.\n",
    "\n",
    "The corresponding pairwise comparison matrix:\n",
    "\n",
    "<img alt=\"Identify pairs from BWS set, and increment counts in dictionary.\" src=\"bwsample-extract.png\" width=\"200px\">\n",
    "\n",
    "The three additonal dictionaries `dok_direct`, `dok_best`, and `doc_worst` could be used for attribution analysis lateron."
   ]
  },
  {
   "cell_type": "code",
   "execution_count": 3,
   "id": "irish-ozone",
   "metadata": {},
   "outputs": [
    {
     "name": "stdout",
     "output_type": "stream",
     "text": [
      "  BEST > WORST: {('D', 'C'): 1}\n",
      " BEST > MIDDLE: {('D', 'A'): 1, ('D', 'B'): 1}\n",
      "MIDDLE > WORST: {('A', 'C'): 1, ('B', 'C'): 1}\n"
     ]
    }
   ],
   "source": [
    "print(\"  BEST > WORST:\", dok_direct)\n",
    "print(\" BEST > MIDDLE:\", dok_best)\n",
    "print(\"MIDDLE > WORST:\", dok_worst)"
   ]
  },
  {
   "cell_type": "markdown",
   "id": "smaller-shirt",
   "metadata": {},
   "source": [
    "## Update dictionaries\n",
    "You can update the dictionaries as follows:"
   ]
  },
  {
   "cell_type": "code",
   "execution_count": 4,
   "id": "olive-insertion",
   "metadata": {},
   "outputs": [],
   "source": [
    "ids = ['D', 'E', 'F', 'A']\n",
    "states = [0, 1, 0, 2]\n",
    "\n",
    "dok_all, dok_direct, dok_best, dok_worst = extract_pairs(\n",
    "    ids, states, dok_all=dok_all, dok_direct=dok_direct, dok_best=dok_best, dok_worst=dok_worst)"
   ]
  },
  {
   "cell_type": "markdown",
   "id": "duplicate-irrigation",
   "metadata": {},
   "source": [
    "e.g. the pair `D>A` has 2 counts now."
   ]
  },
  {
   "cell_type": "code",
   "execution_count": 5,
   "id": "composite-threat",
   "metadata": {},
   "outputs": [
    {
     "name": "stdout",
     "output_type": "stream",
     "text": [
      "{('D', 'C'): 1, ('D', 'A'): 2, ('A', 'C'): 1, ('D', 'B'): 1, ('B', 'C'): 1, ('E', 'A'): 1, ('E', 'D'): 1, ('E', 'F'): 1, ('F', 'A'): 1}\n"
     ]
    }
   ],
   "source": [
    "print(dok_all)"
   ]
  },
  {
   "cell_type": "markdown",
   "id": "transparent-staff",
   "metadata": {},
   "source": [
    "## Convert dictionary to SciPy sparse matrix\n"
   ]
  },
  {
   "cell_type": "code",
   "execution_count": 6,
   "id": "anticipated-constant",
   "metadata": {},
   "outputs": [
    {
     "name": "stdout",
     "output_type": "stream",
     "text": [
      "IDs:  ['A', 'B', 'C', 'D', 'E', 'F']\n",
      "Counts:\n",
      " [[0 0 1 0 0 0]\n",
      " [0 0 1 0 0 0]\n",
      " [0 0 0 0 0 0]\n",
      " [2 1 1 0 0 0]\n",
      " [1 0 0 1 0 1]\n",
      " [1 0 0 0 0 0]]\n"
     ]
    }
   ],
   "source": [
    "from bwsample import to_scipy\n",
    "\n",
    "cnts, idx = to_scipy(dok_all)\n",
    "\n",
    "print(\"IDs: \", idx)\n",
    "print(\"Counts:\\n\", cnts.todense().astype(int))"
   ]
  },
  {
   "cell_type": "markdown",
   "id": "substantial-madrid",
   "metadata": {},
   "source": [
    "## Process multiple BWS sets\n",
    "Use `extract_pairs_batch` "
   ]
  },
  {
   "cell_type": "code",
   "execution_count": 7,
   "id": "laughing-mystery",
   "metadata": {},
   "outputs": [
    {
     "name": "stdout",
     "output_type": "stream",
     "text": [
      "IDs:  ['id1', 'id2', 'id3', 'id4', 'id5', 'id6']\n",
      "Counts:\n",
      " [[0 0 1 0 0 0]\n",
      " [0 0 1 0 0 0]\n",
      " [0 0 0 0 0 0]\n",
      " [2 1 1 0 0 0]\n",
      " [1 0 0 1 0 1]\n",
      " [1 0 0 0 0 0]]\n"
     ]
    }
   ],
   "source": [
    "from bwsample import extract_pairs_batch, to_scipy\n",
    "\n",
    "evaluated_combostates = ([0, 0, 2, 1], [0, 1, 0, 2])\n",
    "mapped_sent_ids = (['id1', 'id2', 'id3', 'id4'], ['id4', 'id5', 'id6', 'id1'])\n",
    "\n",
    "dok_all, dok_direct, dok_best, dok_worst = extract_pairs_batch(\n",
    "    evaluated_combostates, mapped_sent_ids)\n",
    "\n",
    "cnts, idx = to_scipy(dok_all)\n",
    "print(\"IDs: \", idx)\n",
    "print(\"Counts:\\n\", cnts.todense().astype(int))"
   ]
  },
  {
   "cell_type": "markdown",
   "id": "handy-steal",
   "metadata": {},
   "source": [
    "or `extract_pairs_batch2`"
   ]
  },
  {
   "cell_type": "code",
   "execution_count": 8,
   "id": "tender-rhythm",
   "metadata": {},
   "outputs": [
    {
     "name": "stdout",
     "output_type": "stream",
     "text": [
      "IDs:  ['id1', 'id2', 'id3', 'id4', 'id5', 'id6']\n",
      "Counts:\n",
      " [[0 0 1 0 0 0]\n",
      " [0 0 1 0 0 0]\n",
      " [0 0 0 0 0 0]\n",
      " [2 1 1 0 0 0]\n",
      " [1 0 0 1 0 1]\n",
      " [1 0 0 0 0 0]]\n"
     ]
    }
   ],
   "source": [
    "from bwsample import extract_pairs_batch2, to_scipy\n",
    "\n",
    "data = (\n",
    "    ([0, 0, 2, 1], ['id1', 'id2', 'id3', 'id4']), \n",
    "    ([0, 1, 0, 2], ['id4', 'id5', 'id6', 'id1'])\n",
    ")\n",
    "\n",
    "dok_all, dok_direct, dok_best, dok_worst = extract_pairs_batch2(data)\n",
    "\n",
    "cnts, idx = to_scipy(dok_all)\n",
    "print(\"IDs: \", idx)\n",
    "print(\"Counts:\\n\", cnts.todense().astype(int))"
   ]
  }
 ],
 "metadata": {
  "kernelspec": {
   "display_name": "Python 3",
   "language": "python",
   "name": "python3"
  },
  "language_info": {
   "codemirror_mode": {
    "name": "ipython",
    "version": 3
   },
   "file_extension": ".py",
   "mimetype": "text/x-python",
   "name": "python",
   "nbconvert_exporter": "python",
   "pygments_lexer": "ipython3",
   "version": "3.6.3"
  }
 },
 "nbformat": 4,
 "nbformat_minor": 5
}
