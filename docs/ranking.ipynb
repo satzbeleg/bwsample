{
 "cells": [
  {
   "cell_type": "code",
   "execution_count": 1,
   "id": "gothic-payday",
   "metadata": {},
   "outputs": [],
   "source": [
    "import sys\n",
    "sys.path.append('..')"
   ]
  },
  {
   "cell_type": "code",
   "execution_count": 2,
   "id": "roman-birmingham",
   "metadata": {},
   "outputs": [],
   "source": [
    "import numpy as np\n",
    "import bwsample as bws"
   ]
  },
  {
   "cell_type": "markdown",
   "id": "oriented-enclosure",
   "metadata": {},
   "source": [
    "# Toy Data"
   ]
  },
  {
   "cell_type": "code",
   "execution_count": 3,
   "id": "saving-highlight",
   "metadata": {},
   "outputs": [],
   "source": [
    "data = (\n",
    "    ([1, 0, 0, 2], ['A', 'B', 'C', 'D']),\n",
    "    ([1, 0, 0, 2], ['A', 'B', 'C', 'D']), \n",
    "    ([2, 0, 0, 1], ['A', 'B', 'C', 'D']), \n",
    "    ([0, 1, 2, 0], ['A', 'B', 'C', 'D']),\n",
    "    ([0, 1, 0, 2], ['A', 'B', 'C', 'D']),\n",
    ")\n",
    "\n",
    "\"\"\"\n",
    "data = (\n",
    "    ([1, 0, 0, 2], ['A', 'B', 'C', 'D']),\n",
    "    ([1, 0, 0, 2], ['A', 'B', 'C', 'D']), \n",
    "    ([2, 0, 0, 1], ['A', 'B', 'C', 'D']), \n",
    "    ([1, 2, 0, 0], ['D', 'E', 'F', 'A']),\n",
    "    ([0, 2, 1, 0], ['D', 'E', 'F', 'A']),\n",
    "    ([0, 0, 1, 2], ['D', 'E', 'F', 'A'])\n",
    ")\n",
    "\"\"\"\n",
    "\n",
    "# Extract pair frequencies\n",
    "dok, _, _, _ = bws.extract_pairs_batch2(data)"
   ]
  },
  {
   "cell_type": "code",
   "execution_count": 4,
   "id": "provincial-sugar",
   "metadata": {},
   "outputs": [
    {
     "name": "stdout",
     "output_type": "stream",
     "text": [
      "[[0 2 3 3]\n",
      " [3 0 2 4]\n",
      " [1 0 0 3]\n",
      " [1 1 2 0]]\n"
     ]
    }
   ],
   "source": [
    "# convert to sparse matrix\n",
    "cnt, _ = bws.to_scipy(dok)\n",
    "print(cnt.todense().astype(int))"
   ]
  },
  {
   "cell_type": "markdown",
   "id": "diagnostic-rating",
   "metadata": {},
   "source": [
    "# Simple Ratios\n",
    "We can compute the ratios\n",
    "\n",
    "$$\n",
    "\\mu_{ij} = \\frac{N_{ij}}{N_{ij} + N_{ji}} \\; \\forall i,j\n",
    "$$\n",
    "\n",
    "with the matrix operations\n",
    "\n",
    "$$\n",
    "\\textbf{M} = \\frac{\\textbf{N}}{\\textbf{N} + \\textbf{N}^T}\n",
    "$$"
   ]
  },
  {
   "cell_type": "code",
   "execution_count": 5,
   "id": "welsh-breast",
   "metadata": {},
   "outputs": [
    {
     "name": "stdout",
     "output_type": "stream",
     "text": [
      "[[0.   0.4  0.75 0.75]\n",
      " [0.6  0.   1.   0.8 ]\n",
      " [0.25 0.   0.   0.6 ]\n",
      " [0.25 0.2  0.4  0.  ]] \n",
      "\n",
      "positions: [1, 0, 2, 3]\n",
      "ordered IDs: ['B', 'A', 'C', 'D']\n",
      "scores: [1.0, 0.6774193548387094, 0.0, 0.0]\n"
     ]
    }
   ],
   "source": [
    "ranked, ordids, scores, ratios = bws.rank(dok, method='ratio')\n",
    "\n",
    "print(ratios.todense().round(3), \"\\n\")\n",
    "print(f\"positions: {ranked}\") \n",
    "print(f\"ordered IDs: {ordids}\") \n",
    "print(f\"scores: {scores}\") "
   ]
  },
  {
   "cell_type": "markdown",
   "id": "appropriate-insight",
   "metadata": {},
   "source": [
    "# p-values based on Chi-Squared test\n",
    "The question which opposing frequency $N_{ij}$ or $N_{ji}$ is larger,\n",
    "can be treated as hypothesis test:\n",
    "\n",
    "$$\n",
    "\\mu = \\frac{N_{ij}}{N_{ij} + N_{ji}}\n",
    "\\\\\n",
    "H_0: \\mu = 0.5\n",
    "\\\\\n",
    "H_a: \\mu > 0.5\n",
    "$$\n",
    "\n",
    "We basically want to run [binomal test](https://en.wikipedia.org/wiki/Binomial_test) for an coin tossing type of experiment. However, we must expect larger values of $N$, and thus the [Pearson's $\\chi^2$-test](https://en.wikipedia.org/wiki/Pearson%27s_chi-squared_test) is more favorable due to its continuous distribution.\n",
    "\n",
    "When $N_{ij} > N_{ji}$,\n",
    "the lower the p-value of the Pearson Chi-Squared test, \n",
    "the more significant is the rejection of H0.\n",
    "The function `bwsample.scale_pvalues` computes the $(1-p)$ value if $N_{ij} > N_{ji}$, \n",
    "or returns 0.0 otherwise.\n",
    "\n",
    "$$\n",
    "x_{ij} = \n",
    "\\left \\{\n",
    "\\begin{aligned}\n",
    "& 1-p, & \\text{if} \\, N_{ij} > N_{ji} \\\\\n",
    "& 0, & \\text{otherwise}\n",
    "\\end{aligned} \n",
    "\\right.\n",
    "\\quad\n",
    "\\forall i,j\n",
    "$$\n",
    "\n",
    "In other words, the higher $x_{ij}$, the more signification is the $N_{ij} > N_{ji}$"
   ]
  },
  {
   "cell_type": "code",
   "execution_count": 6,
   "id": "stopped-malaysia",
   "metadata": {},
   "outputs": [
    {
     "name": "stdout",
     "output_type": "stream",
     "text": [
      "[[0.    0.    0.683 0.683]\n",
      " [0.345 0.    0.843 0.82 ]\n",
      " [0.    0.    0.    0.345]\n",
      " [0.    0.    0.    0.   ]] \n",
      "\n",
      "positions: [1, 0, 2, 3]\n",
      "ordered IDs: ['B', 'A', 'C', 'D']\n",
      "scores: [1.0, 0.679879058378886, 0.17192887014555752, 0.0]\n"
     ]
    }
   ],
   "source": [
    "ranked, ordids, scores, minuspvalue = bws.rank(dok, method='pvalue')\n",
    "\n",
    "print(minuspvalue.todense().round(3), \"\\n\")\n",
    "print(f\"positions: {ranked}\") \n",
    "print(f\"ordered IDs: {ordids}\") \n",
    "print(f\"scores: {scores}\") "
   ]
  },
  {
   "cell_type": "markdown",
   "id": "sexual-logic",
   "metadata": {},
   "source": [
    "### Notes\n",
    "Why should we care about the size of $N$?\n",
    "A small gap between $N_{ij}=1$ vs $N_{ji}=2$ might be interpretated big ratio gap $1/3$ vs $2/3$.\n",
    "However, when collecting more data it might turn out $N_{ij}=1000$ vs $N_{ji}=1001$"
   ]
  },
  {
   "cell_type": "code",
   "execution_count": 7,
   "id": "centered-synthetic",
   "metadata": {},
   "outputs": [
    {
     "name": "stdout",
     "output_type": "stream",
     "text": [
      "p-value=0.564 | Nij=1 vs Nji=2\n",
      "p-value=0.827 | Nij=10 vs Nji=11\n",
      "p-value=0.944 | Nij=100 vs Nji=101\n",
      "p-value=0.982 | Nij=1000 vs Nji=1001\n"
     ]
    }
   ],
   "source": [
    "import scipy.stats\n",
    "\n",
    "for f1 in (1, 10, 100, 1000):\n",
    "    f2 = f1 + 1\n",
    "    fe = (f1 + f2) / 2\n",
    "    _, pval = scipy.stats.chisquare(f_obs=[f1, f2], f_exp=[fe, fe], ddof=0)\n",
    "    print(f\"p-value={pval:5.3f} | Nij={f1} vs Nji={f2}\")"
   ]
  },
  {
   "cell_type": "markdown",
   "id": "concrete-administration",
   "metadata": {},
   "source": [
    "# Eigenvector Solution as Scores\n",
    "[Saaty (2003)](http://dx.doi.org/10.1016/S0377-2217(02)00227-8) derives the scores from pairwise comparision data by solving a eigenvalue problem.\n",
    "\n",
    "We compute a ratio matrix $A=(a_{ij})$\n",
    "\n",
    "$$\n",
    "a_{ij} = \n",
    "\\left \\{\n",
    "\\begin{aligned}\n",
    "& N_{ij} / N_{ji}, & \\text{if} \\, N_{ji} > 0 \\\\\n",
    "& 0, & \\text{otherwise}\n",
    "\\end{aligned} \n",
    "\\right.\n",
    "\\quad\n",
    "\\forall i,j\n",
    "$$\n",
    "\n",
    "Given the scalar $m$ the eigenvalue, the scores $s_i$ the eigenvector, \n",
    "we can solve equation\n",
    "\n",
    "$$\n",
    "A s = m s\n",
    "$$\n"
   ]
  },
  {
   "cell_type": "code",
   "execution_count": 8,
   "id": "embedded-earthquake",
   "metadata": {},
   "outputs": [
    {
     "name": "stdout",
     "output_type": "stream",
     "text": [
      "positions: [1, 0, 3, 2]\n",
      "ordered IDs: ['B', 'A', 'D', 'C']\n",
      "scores: [0.6981531725668787, 0.6551014935159343, 0.20482709915914166, 0.2036419413530658]\n"
     ]
    }
   ],
   "source": [
    "ranked, ordids, scores, _ = bws.rank(dok, method='eigen')\n",
    "\n",
    "print(f\"positions: {ranked}\") \n",
    "print(f\"ordered IDs: {ordids}\") \n",
    "print(f\"scores: {scores}\") "
   ]
  },
  {
   "cell_type": "markdown",
   "id": "whole-salmon",
   "metadata": {},
   "source": [
    "# Simulate Transitions\n",
    "We compute a transition probability matrix $\\Pr(k|j)$ of items being evaluated $e_k > e_j$.\n",
    "Assume our initial items are equally distributed with item probability $\\pi_j = 1/N \\; \\forall j$,\n",
    "then we can predict $\\pi_k = \\pi_j \\cdot \\Pr(k|j)$.\n",
    "The most probable item $k^*$ to be evaluated $e_{k^*} > e_j$\n",
    "is $k^* = \\arg\\max(\\pi_k)$.\n"
   ]
  },
  {
   "cell_type": "code",
   "execution_count": 9,
   "id": "handed-transformation",
   "metadata": {},
   "outputs": [
    {
     "name": "stdout",
     "output_type": "stream",
     "text": [
      "[[0.488 0.278 0.098 0.136]\n",
      " [0.299 0.484 0.05  0.167]\n",
      " [0.237 0.197 0.409 0.156]\n",
      " [0.207 0.224 0.134 0.435]]\n",
      "predicted probabilities: [0.33187441 0.31953262 0.13568109 0.21291187] \n",
      "\n",
      "positions: [0, 1, 3, 2]\n",
      "ordered IDs: ['A', 'B', 'D', 'C']\n",
      "scores: [1.0, 0.9370937652080424, 0.39364634516069397, 0.0]\n"
     ]
    }
   ],
   "source": [
    "ranked, ordids, scores, (x, transmat) = bws.rank(dok, method='transition', n_rounds=3)\n",
    "\n",
    "print(transmat.todense().round(3))\n",
    "print(f\"predicted probabilities: {x}\", \"\\n\") \n",
    "\n",
    "print(f\"positions: {ranked}\") \n",
    "print(f\"ordered IDs: {ordids}\") \n",
    "print(f\"scores: {scores}\") "
   ]
  },
  {
   "cell_type": "code",
   "execution_count": null,
   "id": "fossil-exclusive",
   "metadata": {},
   "outputs": [],
   "source": []
  }
 ],
 "metadata": {
  "kernelspec": {
   "display_name": "Python 3",
   "language": "python",
   "name": "python3"
  },
  "language_info": {
   "codemirror_mode": {
    "name": "ipython",
    "version": 3
   },
   "file_extension": ".py",
   "mimetype": "text/x-python",
   "name": "python",
   "nbconvert_exporter": "python",
   "pygments_lexer": "ipython3",
   "version": "3.6.3"
  }
 },
 "nbformat": 4,
 "nbformat_minor": 5
}
