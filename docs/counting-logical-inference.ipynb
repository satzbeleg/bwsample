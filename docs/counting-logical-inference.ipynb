{
 "cells": [
  {
   "cell_type": "code",
   "execution_count": 1,
   "id": "front-fruit",
   "metadata": {},
   "outputs": [],
   "source": [
    "import sys\n",
    "sys.path.append('..')"
   ]
  },
  {
   "cell_type": "markdown",
   "id": "cutting-color",
   "metadata": {},
   "source": [
    "# Extract Pairs by Logical Inference between BWS sets"
   ]
  },
  {
   "cell_type": "markdown",
   "id": "wrapped-flash",
   "metadata": {},
   "source": [
    "## Logical Inference between two BWS sets"
   ]
  },
  {
   "cell_type": "code",
   "execution_count": 2,
   "id": "nervous-transformation",
   "metadata": {},
   "outputs": [
    {
     "name": "stdout",
     "output_type": "stream",
     "text": [
      "{('D', 'Z'): 1, ('X', 'F'): 1}\n"
     ]
    }
   ],
   "source": [
    "from bwsample import logical_infer\n",
    "\n",
    "ids1, ids2 = ('D', 'E', 'F'), ('X', 'E', 'Z')\n",
    "states1, states2 = (1, 0, 2), (1, 0, 2)\n",
    "\n",
    "dok = logical_infer(ids1, ids2, states1, states2)\n",
    "\n",
    "print(dok)"
   ]
  },
  {
   "cell_type": "markdown",
   "id": "developed-instrument",
   "metadata": {},
   "source": [
    "## Update against a database"
   ]
  },
  {
   "cell_type": "code",
   "execution_count": 3,
   "id": "protected-pursuit",
   "metadata": {},
   "outputs": [
    {
     "name": "stdout",
     "output_type": "stream",
     "text": [
      "{('G', 'I'): 2, ('G', 'X'): 1, ('J', 'I'): 1, ('G', 'A'): 1, ('G', 'B'): 1, ('G', 'C'): 1, ('G', 'F'): 1, ('D', 'I'): 1}\n"
     ]
    }
   ],
   "source": [
    "from bwsample import logical_infer\n",
    "\n",
    "states1, ids1 = [1, 0, 0, 2], ['G', 'H', 'Z', 'I']\n",
    "\n",
    "db = [\n",
    "    ([1, 0, 0, 2], ['X', 'A', 'B', 'C']),\n",
    "    ([1, 0, 0, 2], ['D', 'X', 'E', 'F']),\n",
    "    ([1, 0, 0, 2], ['G', 'H', 'X', 'I']), \n",
    "    ([1, 0, 0, 2], ['J', 'K', 'Z', 'X']), \n",
    "    ([1, 0, 0, 2], ['Z', 'A', 'B', 'C']),\n",
    "    ([1, 0, 0, 2], ['D', 'Z', 'E', 'F'])\n",
    "]\n",
    "\n",
    "dok = {}\n",
    "for states2, ids2 in db:\n",
    "    dok = logical_infer(ids1, ids2, states1, states2, dok=dok)\n",
    "    \n",
    "print(dok)"
   ]
  }
 ],
 "metadata": {
  "kernelspec": {
   "display_name": "Python 3",
   "language": "python",
   "name": "python3"
  },
  "language_info": {
   "codemirror_mode": {
    "name": "ipython",
    "version": 3
   },
   "file_extension": ".py",
   "mimetype": "text/x-python",
   "name": "python",
   "nbconvert_exporter": "python",
   "pygments_lexer": "ipython3",
   "version": "3.6.3"
  }
 },
 "nbformat": 4,
 "nbformat_minor": 5
}
