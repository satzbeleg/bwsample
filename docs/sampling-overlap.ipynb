{
 "cells": [
  {
   "cell_type": "code",
   "execution_count": 1,
   "id": "meaningful-belarus",
   "metadata": {},
   "outputs": [],
   "source": [
    "import sys\n",
    "sys.path.append('..')"
   ]
  },
  {
   "cell_type": "markdown",
   "id": "spectacular-shuttle",
   "metadata": {},
   "source": [
    "# Sampling: At least once, every `1/(I-1)`-th twice"
   ]
  },
  {
   "cell_type": "markdown",
   "id": "latin-quick",
   "metadata": {},
   "source": [
    "## Explanation\n",
    "The algorithm in `bwsample.indices_overlap` creates overlapping sets.\n",
    "\n",
    "<img alt=\"Overlapping BWS sets.\" src=\"bwsample-overlap.png\" width=\"300px\">"
   ]
  },
  {
   "cell_type": "markdown",
   "id": "objective-value",
   "metadata": {},
   "source": [
    "## Demo\n",
    "In the following example, we generate the indicies of `n_sets=6` BWS sets.\n",
    "Each BWS set has `n_items=4` items."
   ]
  },
  {
   "cell_type": "code",
   "execution_count": 2,
   "id": "noted-flavor",
   "metadata": {},
   "outputs": [
    {
     "name": "stdout",
     "output_type": "stream",
     "text": [
      "n_examples: 18\n"
     ]
    },
    {
     "data": {
      "text/plain": [
       "[[0, 1, 2, 3],\n",
       " [3, 4, 5, 6],\n",
       " [6, 7, 8, 9],\n",
       " [9, 10, 11, 12],\n",
       " [12, 13, 14, 15],\n",
       " [15, 16, 17, 0]]"
      ]
     },
     "execution_count": 2,
     "metadata": {},
     "output_type": "execute_result"
    }
   ],
   "source": [
    "from bwsample import indices_overlap\n",
    "\n",
    "n_sets, n_items, shuffle = 6, 4, False\n",
    "\n",
    "bwsindices, n_examples = indices_overlap(n_sets, n_items, shuffle)\n",
    "\n",
    "print(f\"n_examples: {n_examples}\")\n",
    "bwsindices"
   ]
  },
  {
   "cell_type": "markdown",
   "id": "confidential-guinea",
   "metadata": {},
   "source": [
    "`n_examples=18` means that 19 integer indicies from `range(18)=[0, 17]` were spread across the BWS sets. In the example below, you can see that the last element of a BWS sets is used as the first element in the succeeding BWS sets."
   ]
  },
  {
   "cell_type": "markdown",
   "id": "genuine-convenience",
   "metadata": {},
   "source": [
    "## Shuffle\n",
    "The default setting is `shuffle=True` to shuffle each BWS set in a final step. \n",
    "Random shuffling requires approx. 5-8x more time. \n",
    "The behavior is still maintained to display 1 example in the succeeding BWS set."
   ]
  },
  {
   "cell_type": "code",
   "execution_count": 3,
   "id": "entitled-latex",
   "metadata": {},
   "outputs": [
    {
     "name": "stdout",
     "output_type": "stream",
     "text": [
      "n_examples: 18\n"
     ]
    },
    {
     "data": {
      "text/plain": [
       "[[3, 1, 0, 2],\n",
       " [4, 3, 5, 6],\n",
       " [9, 7, 6, 8],\n",
       " [12, 10, 9, 11],\n",
       " [13, 12, 15, 14],\n",
       " [16, 15, 0, 17]]"
      ]
     },
     "execution_count": 3,
     "metadata": {},
     "output_type": "execute_result"
    }
   ],
   "source": [
    "from bwsample import indices_overlap\n",
    "import numpy as np\n",
    "\n",
    "n_sets, n_items, shuffle = 6, 4, True\n",
    "np.random.seed(42)\n",
    "bwsindices, n_examples = indices_overlap(n_sets, n_items, shuffle)\n",
    "\n",
    "print(f\"n_examples: {n_examples}\")\n",
    "bwsindices"
   ]
  }
 ],
 "metadata": {
  "kernelspec": {
   "display_name": "Python 3",
   "language": "python",
   "name": "python3"
  },
  "language_info": {
   "codemirror_mode": {
    "name": "ipython",
    "version": 3
   },
   "file_extension": ".py",
   "mimetype": "text/x-python",
   "name": "python",
   "nbconvert_exporter": "python",
   "pygments_lexer": "ipython3",
   "version": "3.6.3"
  }
 },
 "nbformat": 4,
 "nbformat_minor": 5
}
