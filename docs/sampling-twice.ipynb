{
 "cells": [
  {
   "cell_type": "code",
   "execution_count": 1,
   "id": "governmental-venture",
   "metadata": {},
   "outputs": [],
   "source": [
    "import sys\n",
    "sys.path.append('..')"
   ]
  },
  {
   "cell_type": "markdown",
   "id": "unnecessary-mexico",
   "metadata": {},
   "source": [
    "# Sampling: Almost twice"
   ]
  },
  {
   "cell_type": "markdown",
   "id": "quantitative-purpose",
   "metadata": {},
   "source": [
    "## Explanation\n",
    "The function `indices_twice` also calls `indices_overlap` but connects the non-overlapping examples to new BWS sets.\n",
    "\n",
    "<img alt=\"Connect not overlapped examples to new BWS sets.\" src=\"bwsample-twice.png\" width=\"300px\">"
   ]
  },
  {
   "cell_type": "markdown",
   "id": "ordinary-brunswick",
   "metadata": {},
   "source": [
    "## Demo"
   ]
  },
  {
   "cell_type": "code",
   "execution_count": 2,
   "id": "confidential-saturn",
   "metadata": {},
   "outputs": [
    {
     "data": {
      "text/plain": [
       "[[0, 1, 2, 3],\n",
       " [3, 4, 5, 6],\n",
       " [6, 7, 8, 9],\n",
       " [9, 10, 11, 12],\n",
       " [12, 13, 14, 15],\n",
       " [15, 16, 17, 0],\n",
       " [1, 5, 10, 14],\n",
       " [2, 7, 11, 16],\n",
       " [4, 8, 13, 17]]"
      ]
     },
     "execution_count": 2,
     "metadata": {},
     "output_type": "execute_result"
    }
   ],
   "source": [
    "from bwsample import indices_twice\n",
    "\n",
    "n_sets, n_items, shuffle = 6, 4, False\n",
    "\n",
    "bwsindices, n_examples = indices_twice(n_sets, n_items, shuffle)\n",
    "\n",
    "bwsindices"
   ]
  },
  {
   "cell_type": "markdown",
   "id": "least-thumbnail",
   "metadata": {},
   "source": [
    "## Problems\n",
    "The function does **not** guarantees that all examples occur twice across BWS sets.\n",
    "The reasons is that the numbers `n_sets` and `n_items` require a common denominator.\n",
    "For example, if both `n_sets=7` and `n_items=3`  are prime numbers, then remainder examples are unavoidable. "
   ]
  },
  {
   "cell_type": "code",
   "execution_count": 3,
   "id": "bearing-composition",
   "metadata": {},
   "outputs": [
    {
     "data": {
      "text/plain": [
       "[[0, 1, 2],\n",
       " [2, 3, 4],\n",
       " [4, 5, 6],\n",
       " [6, 7, 8],\n",
       " [8, 9, 10],\n",
       " [10, 11, 12],\n",
       " [12, 13, 0],\n",
       " [1, 5, 9],\n",
       " [3, 7, 11]]"
      ]
     },
     "execution_count": 3,
     "metadata": {},
     "output_type": "execute_result"
    }
   ],
   "source": [
    "from bwsample import indices_twice\n",
    "\n",
    "n_sets, n_items, shuffle = 7, 3, False\n",
    "\n",
    "bwsindices, n_examples = indices_twice(n_sets, n_items, shuffle)\n",
    "\n",
    "bwsindices"
   ]
  },
  {
   "cell_type": "markdown",
   "id": "powerful-organ",
   "metadata": {},
   "source": [
    "When we count the occurence of each item,\n",
    "we see that there is something off."
   ]
  },
  {
   "cell_type": "code",
   "execution_count": 4,
   "id": "connected-folks",
   "metadata": {},
   "outputs": [
    {
     "name": "stdout",
     "output_type": "stream",
     "text": [
      "[2, 2, 2, 2, 2, 2, 2, 2, 2, 2, 2, 2, 2, 1]\n"
     ]
    },
    {
     "data": {
      "text/plain": [
       "False"
      ]
     },
     "execution_count": 4,
     "metadata": {},
     "output_type": "execute_result"
    }
   ],
   "source": [
    "import itertools\n",
    "from collections import Counter\n",
    "counts = list(Counter(itertools.chain(*bwsindices)).values())\n",
    "print(counts)\n",
    "all([c == 2 for c in counts])"
   ]
  },
  {
   "cell_type": "markdown",
   "id": "streaming-brook",
   "metadata": {},
   "source": [
    "The reason is as follows.\n",
    "If `n_items` is a prime number, you must ensure that `n_sets` is a multiple of `n_items`, e.g."
   ]
  },
  {
   "cell_type": "code",
   "execution_count": 5,
   "id": "biblical-natural",
   "metadata": {},
   "outputs": [
    {
     "data": {
      "text/plain": [
       "[[0, 1, 2],\n",
       " [2, 3, 4],\n",
       " [4, 5, 6],\n",
       " [6, 7, 8],\n",
       " [8, 9, 10],\n",
       " [10, 11, 12],\n",
       " [12, 13, 14],\n",
       " [14, 15, 16],\n",
       " [16, 17, 0],\n",
       " [1, 7, 13],\n",
       " [3, 9, 15],\n",
       " [5, 11, 17]]"
      ]
     },
     "execution_count": 5,
     "metadata": {},
     "output_type": "execute_result"
    }
   ],
   "source": [
    "from bwsample import indices_twice\n",
    "\n",
    "n_items, shuffle = 3, False\n",
    "n_sets = 3 * n_items\n",
    "\n",
    "bwsindices, n_examples = indices_twice(n_sets, n_items, shuffle)\n",
    "\n",
    "bwsindices"
   ]
  }
 ],
 "metadata": {
  "kernelspec": {
   "display_name": "Python 3",
   "language": "python",
   "name": "python3"
  },
  "language_info": {
   "codemirror_mode": {
    "name": "ipython",
    "version": 3
   },
   "file_extension": ".py",
   "mimetype": "text/x-python",
   "name": "python",
   "nbconvert_exporter": "python",
   "pygments_lexer": "ipython3",
   "version": "3.6.3"
  }
 },
 "nbformat": 4,
 "nbformat_minor": 5
}
