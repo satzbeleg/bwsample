{
 "cells": [
  {
   "cell_type": "code",
   "execution_count": 1,
   "id": "concerned-angle",
   "metadata": {},
   "outputs": [],
   "source": [
    "import sys\n",
    "sys.path.append('..')"
   ]
  },
  {
   "cell_type": "markdown",
   "id": "three-august",
   "metadata": {},
   "source": [
    "# Demo 1"
   ]
  },
  {
   "cell_type": "code",
   "execution_count": 2,
   "id": "incoming-kazakhstan",
   "metadata": {},
   "outputs": [],
   "source": [
    "import bwsample as bws\n",
    "\n",
    "# a pool of M=7 examples\n",
    "examples = [\n",
    "    {\"id\": \"id1\", \"data\": \"data...\"},\n",
    "    {\"id\": \"id2\", \"data\": [\"other\", \"data\"]},\n",
    "    {\"id\": \"id3\", \"data\": {\"key\", \"value\"}},\n",
    "    {\"id\": \"id4\", \"data\": \"lorem\"},\n",
    "    {\"id\": \"id5\", \"data\": \"ipsum\"},\n",
    "    {\"id\": \"id6\", \"data\": \"blind\"},\n",
    "    {\"id\": \"id7\", \"data\": \"text\"}\n",
    "]"
   ]
  },
  {
   "cell_type": "code",
   "execution_count": 3,
   "id": "disturbed-bankruptcy",
   "metadata": {},
   "outputs": [
    {
     "data": {
      "text/plain": [
       "[[{'id': 'id1', 'data': 'data...'},\n",
       "  {'id': 'id2', 'data': ['other', 'data']},\n",
       "  {'id': 'id3', 'data': {'key', 'value'}},\n",
       "  {'id': 'id4', 'data': 'lorem'}],\n",
       " [{'id': 'id1', 'data': 'data...'},\n",
       "  {'id': 'id4', 'data': 'lorem'},\n",
       "  {'id': 'id5', 'data': 'ipsum'},\n",
       "  {'id': 'id6', 'data': 'blind'}]]"
      ]
     },
     "execution_count": 3,
     "metadata": {},
     "output_type": "execute_result"
    }
   ],
   "source": [
    "# sample overlapping BWS sets\n",
    "samples = bws.sample(examples, n_items=4, method='overlap')\n",
    "\n",
    "# show results\n",
    "samples"
   ]
  },
  {
   "cell_type": "code",
   "execution_count": 4,
   "id": "joined-breed",
   "metadata": {},
   "outputs": [
    {
     "data": {
      "text/plain": [
       "[[{'id': 'id1', 'data': 'data...'},\n",
       "  {'id': 'id2', 'data': ['other', 'data']},\n",
       "  {'id': 'id3', 'data': {'key', 'value'}},\n",
       "  {'id': 'id4', 'data': 'lorem'}],\n",
       " [{'id': 'id1', 'data': 'data...'},\n",
       "  {'id': 'id4', 'data': 'lorem'},\n",
       "  {'id': 'id5', 'data': 'ipsum'},\n",
       "  {'id': 'id6', 'data': 'blind'}],\n",
       " [{'id': 'id2', 'data': ['other', 'data']},\n",
       "  {'id': 'id3', 'data': {'key', 'value'}},\n",
       "  {'id': 'id5', 'data': 'ipsum'},\n",
       "  {'id': 'id6', 'data': 'blind'}]]"
      ]
     },
     "execution_count": 4,
     "metadata": {},
     "output_type": "execute_result"
    }
   ],
   "source": [
    "# sample overlapping BWS sets\n",
    "samples = bws.sample(examples, n_items=4, method='twice')\n",
    "\n",
    "# show results\n",
    "samples"
   ]
  },
  {
   "cell_type": "markdown",
   "id": "industrial-atlanta",
   "metadata": {},
   "source": [
    "# Demo 2\n",
    "Please note that `len(examples)=26` and the `26 rem 4 = 2` last items (`y` and `z`) are not used as a result."
   ]
  },
  {
   "cell_type": "code",
   "execution_count": 5,
   "id": "tribal-staff",
   "metadata": {},
   "outputs": [
    {
     "data": {
      "text/plain": [
       "([['a', 'b', 'c', 'd'],\n",
       "  ['d', 'e', 'f', 'g'],\n",
       "  ['g', 'h', 'i', 'j'],\n",
       "  ['j', 'k', 'l', 'm'],\n",
       "  ['m', 'n', 'o', 'p'],\n",
       "  ['p', 'q', 'r', 's'],\n",
       "  ['s', 't', 'u', 'v'],\n",
       "  ['a', 'v', 'w', 'x']],\n",
       " 8)"
      ]
     },
     "execution_count": 5,
     "metadata": {},
     "output_type": "execute_result"
    }
   ],
   "source": [
    "examples = [chr(x) for x in range(ord('a'), ord('z')+1)]\n",
    "\n",
    "samples = bws.sample(examples, n_items=4, method='overlap')\n",
    "\n",
    "samples, len(samples)"
   ]
  },
  {
   "cell_type": "code",
   "execution_count": 6,
   "id": "effective-expression",
   "metadata": {},
   "outputs": [
    {
     "data": {
      "text/plain": [
       "([['a', 'b', 'c', 'd'],\n",
       "  ['d', 'e', 'f', 'g'],\n",
       "  ['g', 'h', 'i', 'j'],\n",
       "  ['j', 'k', 'l', 'm'],\n",
       "  ['m', 'n', 'o', 'p'],\n",
       "  ['p', 'q', 'r', 's'],\n",
       "  ['s', 't', 'u', 'v'],\n",
       "  ['a', 'v', 'w', 'x'],\n",
       "  ['b', 'h', 'n', 't'],\n",
       "  ['c', 'i', 'o', 'u'],\n",
       "  ['e', 'k', 'q', 'w'],\n",
       "  ['f', 'l', 'r', 'x']],\n",
       " 12)"
      ]
     },
     "execution_count": 6,
     "metadata": {},
     "output_type": "execute_result"
    }
   ],
   "source": [
    "samples = bws.sample(examples, n_items=4, method='twice')\n",
    "\n",
    "samples, len(samples)"
   ]
  }
 ],
 "metadata": {
  "kernelspec": {
   "display_name": "Python 3",
   "language": "python",
   "name": "python3"
  },
  "language_info": {
   "codemirror_mode": {
    "name": "ipython",
    "version": 3
   },
   "file_extension": ".py",
   "mimetype": "text/x-python",
   "name": "python",
   "nbconvert_exporter": "python",
   "pygments_lexer": "ipython3",
   "version": "3.6.3"
  }
 },
 "nbformat": 4,
 "nbformat_minor": 5
}
