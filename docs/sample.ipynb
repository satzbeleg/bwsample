{
 "cells": [
  {
   "cell_type": "code",
   "execution_count": 1,
   "id": "sacred-miami",
   "metadata": {},
   "outputs": [],
   "source": [
    "import sys\n",
    "sys.path.append('..')"
   ]
  },
  {
   "cell_type": "markdown",
   "id": "advisory-dealing",
   "metadata": {},
   "source": [
    "# Demo 1"
   ]
  },
  {
   "cell_type": "code",
   "execution_count": 2,
   "id": "foster-blake",
   "metadata": {},
   "outputs": [
    {
     "data": {
      "text/plain": [
       "[[{'id': 'id1', 'data': 'data...'},\n",
       "  {'id': 'id2', 'data': ['other', 'data']},\n",
       "  {'id': 'id3', 'data': {'key', 'value'}},\n",
       "  {'id': 'id4', 'data': 'lorem'}],\n",
       " [{'id': 'id1', 'data': 'data...'},\n",
       "  {'id': 'id4', 'data': 'lorem'},\n",
       "  {'id': 'id5', 'data': 'ipsum'},\n",
       "  {'id': 'id6', 'data': 'blind'}]]"
      ]
     },
     "execution_count": 2,
     "metadata": {},
     "output_type": "execute_result"
    }
   ],
   "source": [
    "import bwsample as bws\n",
    "\n",
    "examples = [\n",
    "    {\"id\": \"id1\", \"data\": \"data...\"},\n",
    "    {\"id\": \"id2\", \"data\": [\"other\", \"data\"]},\n",
    "    {\"id\": \"id3\", \"data\": {\"key\", \"value\"}},\n",
    "    {\"id\": \"id4\", \"data\": \"lorem\"},\n",
    "    {\"id\": \"id5\", \"data\": \"ipsum\"},\n",
    "    {\"id\": \"id6\", \"data\": \"blind\"},\n",
    "    {\"id\": \"id7\", \"data\": \"text\"}\n",
    "]\n",
    "\n",
    "samples = bws.sample(examples, n_sets=2, n_items=4, method='overlap')\n",
    "\n",
    "samples"
   ]
  },
  {
   "cell_type": "markdown",
   "id": "olive-senegal",
   "metadata": {},
   "source": [
    "# Demo 2"
   ]
  },
  {
   "cell_type": "code",
   "execution_count": 3,
   "id": "russian-transsexual",
   "metadata": {},
   "outputs": [
    {
     "data": {
      "text/plain": [
       "([['a', 'b', 'c', 'd'],\n",
       "  ['d', 'e', 'f', 'g'],\n",
       "  ['g', 'h', 'i', 'j'],\n",
       "  ['j', 'k', 'l', 'm'],\n",
       "  ['m', 'n', 'o', 'p'],\n",
       "  ['p', 'q', 'r', 's'],\n",
       "  ['s', 't', 'u', 'v'],\n",
       "  ['v', 'w', 'x', 'y'],\n",
       "  ['a', 'b', 'y', 'z'],\n",
       "  ['a', 'b', 'c', 'd'],\n",
       "  ['b', 'i', 'q', 'x'],\n",
       "  ['c', 'k', 'r', 'z'],\n",
       "  ['a', 'e', 'l', 't'],\n",
       "  ['c', 'f', 'n', 'u'],\n",
       "  ['d', 'h', 'o', 'w']],\n",
       " 15)"
      ]
     },
     "execution_count": 3,
     "metadata": {},
     "output_type": "execute_result"
    }
   ],
   "source": [
    "examples = [chr(x) for x in range(ord('a'), ord('z')+1)]\n",
    "\n",
    "samples = bws.sample(examples, n_sets=10, n_items=4, method='twice')\n",
    "\n",
    "samples, len(samples)"
   ]
  }
 ],
 "metadata": {
  "kernelspec": {
   "display_name": "Python 3",
   "language": "python",
   "name": "python3"
  },
  "language_info": {
   "codemirror_mode": {
    "name": "ipython",
    "version": 3
   },
   "file_extension": ".py",
   "mimetype": "text/x-python",
   "name": "python",
   "nbconvert_exporter": "python",
   "pygments_lexer": "ipython3",
   "version": "3.6.3"
  }
 },
 "nbformat": 4,
 "nbformat_minor": 5
}
