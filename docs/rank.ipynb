{
 "cells": [
  {
   "cell_type": "code",
   "execution_count": 1,
   "id": "educational-surge",
   "metadata": {},
   "outputs": [],
   "source": [
    "import sys\n",
    "sys.path.append('..')"
   ]
  },
  {
   "cell_type": "code",
   "execution_count": 2,
   "id": "adequate-flash",
   "metadata": {},
   "outputs": [],
   "source": [
    "import bwsample as bws\n",
    "import numpy as np\n",
    "\n",
    "#import matplotlib.pyplot as plt\n",
    "#%matplotlib inline"
   ]
  },
  {
   "cell_type": "markdown",
   "id": "simplified-finding",
   "metadata": {},
   "source": [
    "# Prepare toy data"
   ]
  },
  {
   "cell_type": "code",
   "execution_count": 3,
   "id": "otherwise-asset",
   "metadata": {},
   "outputs": [],
   "source": [
    "evaluations = (\n",
    "    ([1, 0, 0, 2], ['A', 'B', 'C', 'D']),\n",
    "    ([1, 0, 0, 2], ['A', 'B', 'C', 'D']), \n",
    "    ([2, 0, 0, 1], ['A', 'B', 'C', 'D']), \n",
    "    ([1, 2, 0, 0], ['D', 'E', 'F', 'A']),\n",
    "    ([0, 2, 1, 0], ['D', 'E', 'F', 'A']),\n",
    "    ([0, 0, 1, 2], ['D', 'E', 'F', 'A'])\n",
    ")\n",
    "\n",
    "dok, _, _, _, _ = bws.count(evaluations)"
   ]
  },
  {
   "cell_type": "markdown",
   "id": "northern-copyright",
   "metadata": {},
   "source": [
    "# Simple Ratios"
   ]
  },
  {
   "cell_type": "code",
   "execution_count": 4,
   "id": "demographic-nashville",
   "metadata": {},
   "outputs": [
    {
     "name": "stdout",
     "output_type": "stream",
     "text": [
      "  Positions: [5 3 1 2 0 4]\n",
      "Ordered IDs: ['F' 'D' 'B' 'C' 'A' 'E']\n",
      "     Scores: [1.  0.8 0.5 0.5 0.2 0. ]\n"
     ]
    }
   ],
   "source": [
    "positions, sortedids, metrics, scores, info = bws.rank(\n",
    "    dok, method='ratio', avg='exist', adjust='quantile')\n",
    "\n",
    "#print(np.max(scores), np.min(scores))\n",
    "#plt.hist(scores);\n",
    "\n",
    "print(f\"  Positions: {positions}\") \n",
    "print(f\"Ordered IDs: {sortedids}\") \n",
    "print(f\"     Scores: {scores}\") "
   ]
  },
  {
   "cell_type": "markdown",
   "id": "metric-blast",
   "metadata": {},
   "source": [
    "# 1-Minus p-Values"
   ]
  },
  {
   "cell_type": "code",
   "execution_count": 5,
   "id": "spatial-lexington",
   "metadata": {},
   "outputs": [
    {
     "name": "stdout",
     "output_type": "stream",
     "text": [
      "  Positions: [5 3 1 2 0 4]\n",
      "Ordered IDs: ['F' 'D' 'B' 'C' 'A' 'E']\n",
      "     Scores: [1.  0.8 0.5 0.5 0.2 0. ]\n"
     ]
    }
   ],
   "source": [
    "positions, sortedids, metrics, scores, info = bws.rank(\n",
    "    dok, method='pvalue', avg='exist', adjust='quantile')\n",
    "\n",
    "print(f\"  Positions: {positions}\") \n",
    "print(f\"Ordered IDs: {sortedids}\") \n",
    "print(f\"     Scores: {scores}\") "
   ]
  },
  {
   "cell_type": "markdown",
   "id": "universal-recall",
   "metadata": {},
   "source": [
    "# Bradley-Terry-Luce (BTL) model"
   ]
  },
  {
   "cell_type": "code",
   "execution_count": 6,
   "id": "continuing-underwear",
   "metadata": {},
   "outputs": [
    {
     "name": "stdout",
     "output_type": "stream",
     "text": [
      "  Positions: [4 5 3 0 1 2]\n",
      "Ordered IDs: ['E' 'F' 'D' 'A' 'B' 'C']\n",
      "     Scores: [1.  0.8 0.6 0.4 0.  0. ]\n"
     ]
    }
   ],
   "source": [
    "positions, sortedids, metrics, scores, info = bws.rank(\n",
    "    dok, method='btl', adjust='quantile')\n",
    "\n",
    "print(f\"  Positions: {positions}\") \n",
    "print(f\"Ordered IDs: {sortedids}\") \n",
    "print(f\"     Scores: {scores}\") "
   ]
  },
  {
   "cell_type": "code",
   "execution_count": 7,
   "id": "limiting-mouth",
   "metadata": {},
   "outputs": [
    {
     "name": "stdout",
     "output_type": "stream",
     "text": [
      "Estimated MLE parameters: [0.10324378 0.07756639 0.07756639 0.13433648 0.36627794 0.24100903] \n",
      "\n"
     ]
    }
   ],
   "source": [
    "print(f\"Estimated MLE parameters: {info['weights']}\", \"\\n\") "
   ]
  },
  {
   "cell_type": "markdown",
   "id": "undefined-tattoo",
   "metadata": {},
   "source": [
    "# Eigenvector"
   ]
  },
  {
   "cell_type": "code",
   "execution_count": 8,
   "id": "described-examination",
   "metadata": {},
   "outputs": [
    {
     "name": "stdout",
     "output_type": "stream",
     "text": [
      "  Positions: [5 3 1 2 0 4]\n",
      "Ordered IDs: ['F' 'D' 'B' 'C' 'A' 'E']\n",
      "     Scores: [1.    0.8   0.575 0.4   0.2   0.   ]\n"
     ]
    }
   ],
   "source": [
    "positions, sortedids, metrics, scores, info = bws.rank(\n",
    "    dok, method='eigen', adjust='quantile')\n",
    "\n",
    "print(f\"  Positions: {positions}\") \n",
    "print(f\"Ordered IDs: {sortedids}\") \n",
    "print(f\"     Scores: {scores}\") "
   ]
  },
  {
   "cell_type": "code",
   "execution_count": 9,
   "id": "artistic-worse",
   "metadata": {},
   "outputs": [
    {
     "name": "stdout",
     "output_type": "stream",
     "text": [
      "Estimated eigenvector: [0.1991372  0.21750303 0.21750303 0.25644901 0.03970756 0.89352474]\n"
     ]
    }
   ],
   "source": [
    "print(f\"Estimated eigenvector: {np.abs(np.real(info['eigenvec'].reshape(-1)))}\")"
   ]
  },
  {
   "cell_type": "markdown",
   "id": "typical-shanghai",
   "metadata": {},
   "source": [
    "# Transition Simulation"
   ]
  },
  {
   "cell_type": "code",
   "execution_count": 10,
   "id": "demanding-origin",
   "metadata": {},
   "outputs": [
    {
     "name": "stdout",
     "output_type": "stream",
     "text": [
      "  Positions: [5 3 0 2 1 4]\n",
      "Ordered IDs: ['F' 'D' 'A' 'C' 'B' 'E']\n",
      "     Scores: [1.  0.8 0.6 0.4 0.2 0. ]\n"
     ]
    }
   ],
   "source": [
    "positions, sortedids, metrics, scores, info = bws.rank(\n",
    "    dok, method='trans', adjust='quantile')\n",
    "\n",
    "print(f\"  Positions: {positions}\") \n",
    "print(f\"Ordered IDs: {sortedids}\") \n",
    "print(f\"     Scores: {scores}\") "
   ]
  },
  {
   "cell_type": "code",
   "execution_count": 11,
   "id": "handled-theorem",
   "metadata": {},
   "outputs": [
    {
     "name": "stdout",
     "output_type": "stream",
     "text": [
      "Simulated state probabilities: [0.11996576 0.10923823 0.10923823 0.12359208 0.04837442 0.13556368]\n"
     ]
    }
   ],
   "source": [
    "print(f\"Simulated state probabilities: {info['sim']}\") "
   ]
  },
  {
   "cell_type": "code",
   "execution_count": 12,
   "id": "imposed-identity",
   "metadata": {},
   "outputs": [
    {
     "name": "stdout",
     "output_type": "stream",
     "text": [
      "Estimated Transition Matrix:\n",
      "[[0.399 0.079 0.079 0.088 0.012 0.111]\n",
      " [0.078 0.398 0.084 0.119 0.036 0.117]\n",
      " [0.078 0.084 0.398 0.119 0.036 0.117]\n",
      " [0.115 0.055 0.055 0.395 0.026 0.082]\n",
      " [0.085 0.087 0.087 0.125 0.378 0.126]\n",
      " [0.107 0.107 0.107 0.057 0.01  0.407]]\n"
     ]
    }
   ],
   "source": [
    "print(\"Estimated Transition Matrix:\")\n",
    "print(info['transmat'].todense().round(3))"
   ]
  }
 ],
 "metadata": {
  "kernelspec": {
   "display_name": "Python 3",
   "language": "python",
   "name": "python3"
  },
  "language_info": {
   "codemirror_mode": {
    "name": "ipython",
    "version": 3
   },
   "file_extension": ".py",
   "mimetype": "text/x-python",
   "name": "python",
   "nbconvert_exporter": "python",
   "pygments_lexer": "ipython3",
   "version": "3.6.3"
  }
 },
 "nbformat": 4,
 "nbformat_minor": 5
}
