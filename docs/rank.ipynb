{
 "cells": [
  {
   "cell_type": "code",
   "execution_count": 1,
   "id": "selected-campus",
   "metadata": {},
   "outputs": [],
   "source": [
    "import sys\n",
    "sys.path.append('..')"
   ]
  },
  {
   "cell_type": "code",
   "execution_count": 2,
   "id": "electronic-apache",
   "metadata": {},
   "outputs": [],
   "source": [
    "import bwsample as bws\n",
    "import numpy as np\n",
    "\n",
    "#import matplotlib.pyplot as plt\n",
    "#%matplotlib inline"
   ]
  },
  {
   "cell_type": "markdown",
   "id": "upset-theater",
   "metadata": {},
   "source": [
    "# Prepare toy data"
   ]
  },
  {
   "cell_type": "code",
   "execution_count": 3,
   "id": "selected-poultry",
   "metadata": {},
   "outputs": [],
   "source": [
    "evaluations = (\n",
    "    ([1, 0, 0, 2], ['A', 'B', 'C', 'D']),\n",
    "    ([1, 0, 0, 2], ['A', 'B', 'C', 'D']), \n",
    "    ([2, 0, 0, 1], ['A', 'B', 'C', 'D']), \n",
    "    ([1, 2, 0, 0], ['D', 'E', 'F', 'A']),\n",
    "    ([0, 2, 1, 0], ['D', 'E', 'F', 'A']),\n",
    "    ([0, 0, 1, 2], ['D', 'E', 'F', 'A'])\n",
    ")\n",
    "\n",
    "dok, _, _, _, _ = bws.count(evaluations)"
   ]
  },
  {
   "cell_type": "markdown",
   "id": "opening-center",
   "metadata": {},
   "source": [
    "# Simple Ratios"
   ]
  },
  {
   "cell_type": "code",
   "execution_count": 4,
   "id": "divided-vietnam",
   "metadata": {},
   "outputs": [
    {
     "name": "stdout",
     "output_type": "stream",
     "text": [
      "  Positions: [5 3 1 2 0 4]\n",
      "Ordered IDs: ['F' 'D' 'B' 'C' 'A' 'E']\n",
      "     Scores: [1.  0.8 0.5 0.5 0.2 0. ]\n"
     ]
    }
   ],
   "source": [
    "positions, sortedids, metrics, scores, info = bws.rank(\n",
    "    dok, method='ratio', avg='exist', adjust='quantile')\n",
    "\n",
    "#print(np.max(scores), np.min(scores))\n",
    "#plt.hist(scores);\n",
    "\n",
    "print(f\"  Positions: {positions}\") \n",
    "print(f\"Ordered IDs: {sortedids}\") \n",
    "print(f\"     Scores: {scores}\") "
   ]
  },
  {
   "cell_type": "markdown",
   "id": "assured-poland",
   "metadata": {},
   "source": [
    "# 1-Minus p-Values"
   ]
  },
  {
   "cell_type": "code",
   "execution_count": 5,
   "id": "removable-donor",
   "metadata": {},
   "outputs": [
    {
     "name": "stdout",
     "output_type": "stream",
     "text": [
      "  Positions: [5 3 1 2 0 4]\n",
      "Ordered IDs: ['F' 'D' 'B' 'C' 'A' 'E']\n",
      "     Scores: [1.  0.8 0.4 0.4 0.2 0. ]\n"
     ]
    },
    {
     "name": "stderr",
     "output_type": "stream",
     "text": [
      "../bwsample/ranking.py:72: UserWarning: Use 'approx' because it's faster.\n",
      "  warnings.warn(\"Use 'approx' because it's faster.\", UserWarning)\n"
     ]
    }
   ],
   "source": [
    "positions, sortedids, metrics, scores, info = bws.rank(\n",
    "    dok, method='pvalue', avg='exist', adjust='quantile')\n",
    "\n",
    "print(f\"  Positions: {positions}\") \n",
    "print(f\"Ordered IDs: {sortedids}\") \n",
    "print(f\"     Scores: {scores}\") "
   ]
  },
  {
   "cell_type": "code",
   "execution_count": 6,
   "id": "7094d503-a956-45a4-9bf8-65d8dae4b070",
   "metadata": {},
   "outputs": [
    {
     "data": {
      "text/plain": [
       "array([[0.   , 0.   , 0.   , 0.398, 0.993, 0.   ],\n",
       "       [0.892, 0.   , 0.   , 0.   , 0.954, 0.   ],\n",
       "       [0.892, 0.   , 0.   , 0.   , 0.954, 0.   ],\n",
       "       [0.   , 0.892, 0.892, 0.   , 0.999, 0.   ],\n",
       "       [0.   , 0.   , 0.   , 0.   , 0.   , 0.   ],\n",
       "       [0.999, 0.954, 0.954, 0.993, 1.   , 0.   ]])"
      ]
     },
     "execution_count": 6,
     "metadata": {},
     "output_type": "execute_result"
    }
   ],
   "source": [
    "info['P'].todense().round(3)"
   ]
  },
  {
   "cell_type": "markdown",
   "id": "9fdbe524-f05a-4a2d-bcd1-b06b1c071c47",
   "metadata": {},
   "source": [
    "# Hoaglin Approximation"
   ]
  },
  {
   "cell_type": "code",
   "execution_count": 7,
   "id": "da48ee5c-cef2-42bc-865f-581ab47d2a1a",
   "metadata": {},
   "outputs": [
    {
     "name": "stdout",
     "output_type": "stream",
     "text": [
      "  Positions: [5 3 1 2 0 4]\n",
      "Ordered IDs: ['F' 'D' 'B' 'C' 'A' 'E']\n",
      "     Scores: [1.  0.8 0.4 0.4 0.2 0. ]\n"
     ]
    }
   ],
   "source": [
    "positions, sortedids, metrics, scores, info = bws.rank(\n",
    "    dok, method='hoaglin', avg='exist', adjust='quantile')\n",
    "\n",
    "print(f\"  Positions: {positions}\") \n",
    "print(f\"Ordered IDs: {sortedids}\") \n",
    "print(f\"     Scores: {scores}\") "
   ]
  },
  {
   "cell_type": "code",
   "execution_count": 8,
   "id": "7d68d4bc-7172-440c-95fb-6aebcb317666",
   "metadata": {},
   "outputs": [
    {
     "data": {
      "text/plain": [
       "array([[0.   , 0.   , 0.   , 0.848, 0.971, 0.   ],\n",
       "       [0.933, 0.   , 0.   , 0.   , 0.951, 0.   ],\n",
       "       [0.933, 0.   , 0.   , 0.   , 0.951, 0.   ],\n",
       "       [0.   , 0.933, 0.933, 0.   , 0.981, 0.   ],\n",
       "       [0.   , 0.   , 0.   , 0.   , 0.   , 0.   ],\n",
       "       [0.981, 0.951, 0.951, 0.971, 0.992, 0.   ]])"
      ]
     },
     "execution_count": 8,
     "metadata": {},
     "output_type": "execute_result"
    }
   ],
   "source": [
    "info['P'].todense().round(3)"
   ]
  },
  {
   "cell_type": "markdown",
   "id": "ordered-worth",
   "metadata": {},
   "source": [
    "# Bradley-Terry-Luce (BTL) model"
   ]
  },
  {
   "cell_type": "code",
   "execution_count": 9,
   "id": "several-safety",
   "metadata": {},
   "outputs": [
    {
     "name": "stdout",
     "output_type": "stream",
     "text": [
      "  Positions: [4 5 3 0 1 2]\n",
      "Ordered IDs: ['E' 'F' 'D' 'A' 'B' 'C']\n",
      "     Scores: [1.  0.8 0.6 0.4 0.  0. ]\n"
     ]
    }
   ],
   "source": [
    "positions, sortedids, metrics, scores, info = bws.rank(\n",
    "    dok, method='btl', adjust='quantile')\n",
    "\n",
    "print(f\"  Positions: {positions}\") \n",
    "print(f\"Ordered IDs: {sortedids}\") \n",
    "print(f\"     Scores: {scores}\") "
   ]
  },
  {
   "cell_type": "code",
   "execution_count": 10,
   "id": "handy-regard",
   "metadata": {},
   "outputs": [
    {
     "name": "stdout",
     "output_type": "stream",
     "text": [
      "Estimated MLE parameters: [0.10324378 0.07756639 0.07756639 0.13433648 0.36627794 0.24100903] \n",
      "\n"
     ]
    }
   ],
   "source": [
    "print(f\"Estimated MLE parameters: {info['weights']}\", \"\\n\") "
   ]
  },
  {
   "cell_type": "markdown",
   "id": "underlying-railway",
   "metadata": {},
   "source": [
    "# Eigenvector"
   ]
  },
  {
   "cell_type": "code",
   "execution_count": 11,
   "id": "convenient-hurricane",
   "metadata": {},
   "outputs": [
    {
     "name": "stdout",
     "output_type": "stream",
     "text": [
      "  Positions: [5 3 1 2 0 4]\n",
      "Ordered IDs: ['F' 'D' 'B' 'C' 'A' 'E']\n",
      "     Scores: [1.    0.8   0.575 0.4   0.2   0.   ]\n"
     ]
    }
   ],
   "source": [
    "positions, sortedids, metrics, scores, info = bws.rank(\n",
    "    dok, method='eigen', adjust='quantile')\n",
    "\n",
    "print(f\"  Positions: {positions}\") \n",
    "print(f\"Ordered IDs: {sortedids}\") \n",
    "print(f\"     Scores: {scores}\") "
   ]
  },
  {
   "cell_type": "code",
   "execution_count": 12,
   "id": "gross-fiction",
   "metadata": {},
   "outputs": [
    {
     "name": "stdout",
     "output_type": "stream",
     "text": [
      "Estimated eigenvector: [0.1991372  0.21750303 0.21750303 0.25644901 0.03970756 0.89352474]\n"
     ]
    }
   ],
   "source": [
    "print(f\"Estimated eigenvector: {np.abs(np.real(info['eigenvec'].reshape(-1)))}\")"
   ]
  },
  {
   "cell_type": "markdown",
   "id": "elect-subscription",
   "metadata": {},
   "source": [
    "# Transition Simulation"
   ]
  },
  {
   "cell_type": "code",
   "execution_count": 13,
   "id": "desirable-company",
   "metadata": {},
   "outputs": [
    {
     "name": "stdout",
     "output_type": "stream",
     "text": [
      "  Positions: [5 3 0 2 1 4]\n",
      "Ordered IDs: ['F' 'D' 'A' 'C' 'B' 'E']\n",
      "     Scores: [1.  0.8 0.6 0.4 0.2 0. ]\n"
     ]
    }
   ],
   "source": [
    "positions, sortedids, metrics, scores, info = bws.rank(\n",
    "    dok, method='trans', adjust='quantile')\n",
    "\n",
    "print(f\"  Positions: {positions}\") \n",
    "print(f\"Ordered IDs: {sortedids}\") \n",
    "print(f\"     Scores: {scores}\") "
   ]
  },
  {
   "cell_type": "code",
   "execution_count": 14,
   "id": "available-spiritual",
   "metadata": {},
   "outputs": [
    {
     "name": "stdout",
     "output_type": "stream",
     "text": [
      "Simulated state probabilities: [0.11996576 0.10923823 0.10923823 0.12359208 0.04837442 0.13556368]\n"
     ]
    }
   ],
   "source": [
    "print(f\"Simulated state probabilities: {info['sim']}\") "
   ]
  },
  {
   "cell_type": "code",
   "execution_count": 15,
   "id": "healthy-faculty",
   "metadata": {},
   "outputs": [
    {
     "name": "stdout",
     "output_type": "stream",
     "text": [
      "Estimated Transition Matrix:\n",
      "[[0.399 0.079 0.079 0.088 0.012 0.111]\n",
      " [0.078 0.398 0.084 0.119 0.036 0.117]\n",
      " [0.078 0.084 0.398 0.119 0.036 0.117]\n",
      " [0.115 0.055 0.055 0.395 0.026 0.082]\n",
      " [0.085 0.087 0.087 0.125 0.378 0.126]\n",
      " [0.107 0.107 0.107 0.057 0.01  0.407]]\n"
     ]
    }
   ],
   "source": [
    "print(\"Estimated Transition Matrix:\")\n",
    "print(info['transmat'].todense().round(3))"
   ]
  }
 ],
 "metadata": {
  "kernelspec": {
   "display_name": "Python 3",
   "language": "python",
   "name": "python3"
  },
  "language_info": {
   "codemirror_mode": {
    "name": "ipython",
    "version": 3
   },
   "file_extension": ".py",
   "mimetype": "text/x-python",
   "name": "python",
   "nbconvert_exporter": "python",
   "pygments_lexer": "ipython3",
   "version": "3.7.9"
  }
 },
 "nbformat": 4,
 "nbformat_minor": 5
}
