{
 "cells": [
  {
   "cell_type": "code",
   "execution_count": 1,
   "id": "pregnant-minneapolis",
   "metadata": {},
   "outputs": [],
   "source": [
    "import sys\n",
    "sys.path.append('..')"
   ]
  },
  {
   "cell_type": "markdown",
   "id": "criminal-buffer",
   "metadata": {},
   "source": [
    "# Demo 1"
   ]
  },
  {
   "cell_type": "code",
   "execution_count": 2,
   "id": "transsexual-scanner",
   "metadata": {},
   "outputs": [
    {
     "name": "stdout",
     "output_type": "stream",
     "text": [
      "CPU times: user 320 µs, sys: 6 µs, total: 326 µs\n",
      "Wall time: 336 µs\n"
     ]
    }
   ],
   "source": [
    "import bwsample as bws\n",
    "\n",
    "evaluations = [\n",
    "    ([0, 0, 2, 1], ['id1', 'id2', 'id3', 'id4']), \n",
    "    ([0, 1, 0, 2], ['id4', 'id5', 'id6', 'id7']),\n",
    "    ([1, 2, 0, 0], ['id7', 'id8', 'id9', 'id1'])\n",
    "]\n",
    "\n",
    "%time dok_all, dok_direct, dok_best, dok_worst, dok_infer = bws.count(evaluations)"
   ]
  },
  {
   "cell_type": "code",
   "execution_count": 3,
   "id": "wired-stations",
   "metadata": {},
   "outputs": [
    {
     "data": {
      "text/plain": [
       "matrix([[0, 0, 1, 0, 0, 0, 0, 1, 0],\n",
       "        [0, 0, 1, 0, 0, 0, 0, 0, 0],\n",
       "        [0, 0, 0, 0, 0, 0, 0, 0, 0],\n",
       "        [3, 1, 5, 0, 0, 0, 1, 4, 2],\n",
       "        [4, 2, 2, 1, 0, 1, 5, 2, 2],\n",
       "        [2, 0, 0, 0, 0, 0, 1, 2, 2],\n",
       "        [1, 0, 2, 0, 0, 0, 0, 5, 1],\n",
       "        [0, 0, 0, 0, 0, 0, 0, 0, 0],\n",
       "        [0, 0, 0, 0, 0, 0, 0, 1, 0]])"
      ]
     },
     "execution_count": 3,
     "metadata": {},
     "output_type": "execute_result"
    }
   ],
   "source": [
    "cnt, _ = bws.to_scipy(dok_all)\n",
    "cnt.todense().astype(int)"
   ]
  },
  {
   "cell_type": "code",
   "execution_count": 4,
   "id": "internal-second",
   "metadata": {},
   "outputs": [
    {
     "data": {
      "text/plain": [
       "matrix([[0, 0, 0, 0, 0, 0, 0, 0, 0],\n",
       "        [0, 0, 0, 0, 0, 0, 0, 0, 0],\n",
       "        [0, 0, 0, 0, 0, 0, 0, 0, 0],\n",
       "        [2, 0, 4, 0, 0, 0, 0, 4, 2],\n",
       "        [4, 2, 2, 0, 0, 0, 4, 2, 2],\n",
       "        [2, 0, 0, 0, 0, 0, 0, 2, 2],\n",
       "        [0, 0, 2, 0, 0, 0, 0, 4, 0],\n",
       "        [0, 0, 0, 0, 0, 0, 0, 0, 0],\n",
       "        [0, 0, 0, 0, 0, 0, 0, 0, 0]])"
      ]
     },
     "execution_count": 4,
     "metadata": {},
     "output_type": "execute_result"
    }
   ],
   "source": [
    "cnt, _ = bws.to_scipy(dok_infer)\n",
    "cnt.todense().astype(int)"
   ]
  },
  {
   "cell_type": "markdown",
   "id": "persistent-baseball",
   "metadata": {},
   "source": [
    "# Demo 2"
   ]
  },
  {
   "cell_type": "code",
   "execution_count": 5,
   "id": "color-playback",
   "metadata": {},
   "outputs": [],
   "source": [
    "import bwsample as bws\n",
    "\n",
    "evaluations = [\n",
    "    ([1, 0, 0, 2], ['G', 'H', 'Z', 'I'])\n",
    "]\n",
    "\n",
    "db_infer = [\n",
    "    ([1, 0, 0, 2], ['X', 'A', 'B', 'C']),\n",
    "    ([1, 0, 0, 2], ['D', 'X', 'E', 'F']),\n",
    "    ([1, 0, 0, 2], ['G', 'H', 'X', 'I']), \n",
    "    ([1, 0, 0, 2], ['J', 'K', 'Z', 'X']), \n",
    "    ([1, 0, 0, 2], ['Z', 'A', 'B', 'C']),\n",
    "    ([1, 0, 0, 2], ['D', 'Z', 'E', 'F'])\n",
    "]\n",
    "\n",
    "dok_all, dok_direct, dok_best, dok_worst, dok_infer = bws.count(evaluations, db_infer=db_infer)"
   ]
  },
  {
   "cell_type": "code",
   "execution_count": 6,
   "id": "suspended-aluminum",
   "metadata": {},
   "outputs": [
    {
     "name": "stdout",
     "output_type": "stream",
     "text": [
      "{('G', 'I'): 2, ('G', 'X'): 1, ('J', 'I'): 1, ('G', 'A'): 1, ('G', 'B'): 1, ('G', 'C'): 1, ('G', 'F'): 1, ('D', 'I'): 1}\n"
     ]
    }
   ],
   "source": [
    "print(dok_infer)"
   ]
  }
 ],
 "metadata": {
  "kernelspec": {
   "display_name": "Python 3",
   "language": "python",
   "name": "python3"
  },
  "language_info": {
   "codemirror_mode": {
    "name": "ipython",
    "version": 3
   },
   "file_extension": ".py",
   "mimetype": "text/x-python",
   "name": "python",
   "nbconvert_exporter": "python",
   "pygments_lexer": "ipython3",
   "version": "3.6.3"
  }
 },
 "nbformat": 4,
 "nbformat_minor": 5
}
