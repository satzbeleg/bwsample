{
 "cells": [
  {
   "cell_type": "markdown",
   "id": "qualified-mileage",
   "metadata": {},
   "source": [
    "# Preprocess Input Data for `bwsample.sample`\n",
    "The input data should be structured as `Dict[ID,DATA]` with unique IDs as keys."
   ]
  },
  {
   "cell_type": "code",
   "execution_count": 1,
   "id": "julian-moore",
   "metadata": {},
   "outputs": [
    {
     "data": {
      "text/plain": [
       "{'id1': 'data...',\n",
       " 'id2': ['other', 'data'],\n",
       " 'id3': {'key', 'value'},\n",
       " 'id4': 'lorem',\n",
       " 'id5': 'ipsum',\n",
       " 'id6': 'blind',\n",
       " 'id7': 'text'}"
      ]
     },
     "execution_count": 1,
     "metadata": {},
     "output_type": "execute_result"
    }
   ],
   "source": [
    "examples = {\n",
    "    \"id1\": \"data...\",\n",
    "    \"id2\": [\"other\", \"data\"],\n",
    "    \"id3\": {\"key\", \"value\"},\n",
    "    \"id4\": \"lorem\",\n",
    "    \"id5\": \"ipsum\",\n",
    "    \"id6\": \"blind\",\n",
    "    \"id7\": \"text\"\n",
    "}\n",
    "examples"
   ]
  },
  {
   "cell_type": "markdown",
   "id": "supposed-franklin",
   "metadata": {},
   "source": [
    "## Convert `List[DATA]` \n",
    "You can convert a `List[DATA]` to `Dict[ID,DATA]` as follows:"
   ]
  },
  {
   "cell_type": "code",
   "execution_count": 2,
   "id": "traditional-story",
   "metadata": {},
   "outputs": [
    {
     "data": {
      "text/plain": [
       "{'0': 'data...',\n",
       " '1': ['other', 'data'],\n",
       " '2': {'key', 'value'},\n",
       " '3': 'lorem',\n",
       " '4': 'ipsum',\n",
       " '5': 'blind',\n",
       " '6': 'text'}"
      ]
     },
     "execution_count": 2,
     "metadata": {},
     "output_type": "execute_result"
    }
   ],
   "source": [
    "# our raw data\n",
    "raw = [\"data...\", [\"other\", \"data\"], {\"key\", \"value\"}, \"lorem\", \"ipsum\", \"blind\", \"text\"]\n",
    "\n",
    "# convert \n",
    "examples = {str(k): val for k, val in enumerate(raw)} \n",
    "\n",
    "examples"
   ]
  },
  {
   "cell_type": "markdown",
   "id": "pressed-catholic",
   "metadata": {},
   "source": [
    "## Convert other data models\n",
    "Data can be organized in different ways, e.g."
   ]
  },
  {
   "cell_type": "code",
   "execution_count": 3,
   "id": "sporting-patio",
   "metadata": {},
   "outputs": [
    {
     "data": {
      "text/plain": [
       "{'id1': 'data...',\n",
       " 'id2': ['other', 'data'],\n",
       " 'id3': {'key', 'value'},\n",
       " 'id4': 'lorem',\n",
       " 'id5': 'ipsum',\n",
       " 'id6': 'blind',\n",
       " 'id7': 'text'}"
      ]
     },
     "execution_count": 3,
     "metadata": {},
     "output_type": "execute_result"
    }
   ],
   "source": [
    "# out raw data\n",
    "raw = [\n",
    "    {\"id\": \"id1\", \"data\": \"data...\"},\n",
    "    {\"id\": \"id2\", \"data\": [\"other\", \"data\"]},\n",
    "    {\"id\": \"id3\", \"data\": {\"key\", \"value\"}},\n",
    "    {\"id\": \"id4\", \"data\": \"lorem\"},\n",
    "    {\"id\": \"id5\", \"data\": \"ipsum\"},\n",
    "    {\"id\": \"id6\", \"data\": \"blind\"},\n",
    "    {\"id\": \"id7\", \"data\": \"text\"}\n",
    "]\n",
    "\n",
    "# convert\n",
    "examples = {r.get(\"id\"): r.get(\"data\") for r in raw}\n",
    "\n",
    "examples"
   ]
  }
 ],
 "metadata": {
  "kernelspec": {
   "display_name": "Python 3",
   "language": "python",
   "name": "python3"
  },
  "language_info": {
   "codemirror_mode": {
    "name": "ipython",
    "version": 3
   },
   "file_extension": ".py",
   "mimetype": "text/x-python",
   "name": "python",
   "nbconvert_exporter": "python",
   "pygments_lexer": "ipython3",
   "version": "3.6.3"
  }
 },
 "nbformat": 4,
 "nbformat_minor": 5
}
